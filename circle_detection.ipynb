{
 "cells": [
  {
   "cell_type": "code",
   "execution_count": null,
   "metadata": {},
   "outputs": [],
   "source": [
    "pwd # checking the directory"
   ]
  },
  {
   "cell_type": "code",
   "execution_count": null,
   "metadata": {},
   "outputs": [],
   "source": [
    "# import libraries\n",
    "import os\n",
    "\n",
    "import cv2\n",
    "import numpy as np\n",
    "from keras import layers, optimizers\n",
    "from keras.callbacks import ModelCheckpoint\n",
    "from keras.models import Sequential\n",
    "import matplotlib.pyplot as plt\n",
    "import tensorflow as tf\n",
    "from tensorflow.keras.optimizers import RMSprop\n",
    "from tensorflow.keras.models import load_model\n",
    "import time"
   ]
  },
  {
   "cell_type": "code",
   "execution_count": null,
   "metadata": {},
   "outputs": [],
   "source": [
    "def bound(low, high, value):   # bounding value between low and high\n",
    "    return min(high, max(low, value))"
   ]
  },
  {
   "cell_type": "code",
   "execution_count": null,
   "metadata": {},
   "outputs": [],
   "source": [
    "size = 100000   # size of the circle dataset for training"
   ]
  },
  {
   "cell_type": "code",
   "execution_count": null,
   "metadata": {},
   "outputs": [],
   "source": [
    "img = np.zeros([size,256,256,3],dtype=np.uint8) # creating training samples of images of (256, 256, 3) dimensions\n",
    "img.fill(255)  # for white background\n",
    "\n",
    "# Window name in which image is displayed\n",
    "window_name = 'Image'\n",
    "\n",
    "directory = '/home/image_training/circle_dataset'   # directory where all the images will be saved\n",
    "\n",
    "center_coordinate = np.random.rand(size,2)  # initialization of center coordinates \n",
    "center_coordinate *= 240   # converting center coordinate to (240,240) dimension for avoiding near boundary\n",
    "\n",
    "for i in range(0,size):\n",
    "    center_coordinate[i,0] = bound(30, 230, center_coordinate[i,0])\n",
    "    center_coordinate[i,1] = bound(30, 230, center_coordinate[i,1])\n",
    "\n",
    "center_coordinates = np.zeros((size,2))\n",
    "top_left = np.zeros((size,2))   # initialization of top left point in the bounding boxes\n",
    "bottom_right = np.zeros((size,2))  # initialization of bottom right point in the bounding boxes\n",
    "\n",
    "radius = 20  # defining radius of the circles\n",
    "center_coordinates = center_coordinate.astype(int)   # converting center coordinate into integer\n",
    "\n",
    "top_left = center_coordinates - radius   # defining of top left point in the bounding boxes\n",
    "bottom_right = center_coordinates + radius    # defining of bottom right point in the bounding boxes\n",
    "\n",
    "color = (0, 0, 0)  # for black color\n",
    "  \n",
    "thickness = -1  # for filling the circle with black color\n",
    "\n",
    "for i in range(0, size):\n",
    "    image = cv2.circle(img[i], center_coordinates[i], radius, color, thickness)  # creation of training samples including black circle with white background \n",
    "    os.chdir(directory)   # changing directory to the directory where all the images will be saved\n",
    "    filename = 'circle' + str(i + 1) + '.png'   # naming the image files\n",
    "    cv2.imwrite(filename, image)   # writing and saving the images files in the directory"
   ]
  },
  {
   "cell_type": "code",
   "execution_count": null,
   "metadata": {},
   "outputs": [],
   "source": [
    "np.savetxt(\"top_left.csv\", top_left, delimiter=\",\")    # saving the top left points of the bounding boxes as a csv file\n",
    "np.savetxt(\"bottom_right.csv\", bottom_right, delimiter=\",\")  # saving the bottom right points of the bounding boxes as a csv file"
   ]
  },
  {
   "cell_type": "code",
   "execution_count": null,
   "metadata": {},
   "outputs": [],
   "source": [
    "pwd  # checking the directory"
   ]
  },
  {
   "cell_type": "code",
   "execution_count": null,
   "metadata": {},
   "outputs": [],
   "source": [
    "os.chdir('/home/image_training/circle_dataset')  # changing the directory where all the images were saved"
   ]
  },
  {
   "cell_type": "code",
   "execution_count": null,
   "metadata": {},
   "outputs": [],
   "source": [
    "from csv import reader   # importing csv reader\n",
    "opened_file = open('top_left.csv')   # opening the top_left csv file\n",
    "read_file = reader(opened_file)  # reading the csv file\n",
    "tp_lft = list(read_file)   # creation of a list with the csv file"
   ]
  },
  {
   "cell_type": "code",
   "execution_count": null,
   "metadata": {},
   "outputs": [],
   "source": [
    "from csv import reader    # importing csv reader\n",
    "opened_file1 = open('bottom_right.csv')   # opening the bottom right csv file\n",
    "read_file1 = reader(opened_file1)    # reading the csv file\n",
    "btm_rt = list(read_file1)   # creation of a list with the csv file"
   ]
  },
  {
   "cell_type": "code",
   "execution_count": null,
   "metadata": {},
   "outputs": [],
   "source": [
    "folder = '/home/image_training/circle_dataset'   # directory of the saved image\n",
    "circle_data = np.zeros([size,256,256,3],dtype=np.uint8)  # initializing circles array\n",
    "for i in range(0,size):\n",
    "    imagename = 'circle' + str(i + 1) + '.png'   # circle name\n",
    "    circle_data[i,:,:,:] = cv2.imread(os.path.join(folder,imagename))  # reading the circle joining the directory and the name\n",
    "    circle_data[i,:,:,:] = circle_data[i,:,:,:] / 255    # normalizing the image pixels"
   ]
  },
  {
   "cell_type": "code",
   "execution_count": null,
   "metadata": {},
   "outputs": [],
   "source": [
    "cv2.imshow(\"image\", circle_data[10]* 255)  # showing the circle checking whether the circle was successfully read.\n",
    "while(True):\n",
    "    k = cv2.waitKey(33)\n",
    "    if k == -1:  # if no key was pressed, -1 is returned\n",
    "        continue\n",
    "    else:\n",
    "        break\n",
    "cv2.destroyAllWindows()"
   ]
  },
  {
   "cell_type": "code",
   "execution_count": null,
   "metadata": {},
   "outputs": [],
   "source": [
    "bounding_box_circle = np.zeros((size,4))  # intialization of bounding box"
   ]
  },
  {
   "cell_type": "code",
   "execution_count": null,
   "metadata": {},
   "outputs": [],
   "source": [
    "for i in range(0,size):\n",
    "    bounding_box_circle[i,0] = float(tp_lft[i][0]) / 256   # coverting the top left point x coordinate to float then normalizing \n",
    "    bounding_box_circle[i,1] = float(tp_lft[i][1]) / 256   # coverting the top left point y coordinate to float then normalizing \n",
    "    bounding_box_circle[i,2] = float(btm_rt[i][0]) / 256   # coverting the bottom right point x coordinate to float then normalizing \n",
    "    bounding_box_circle[i,3] = float(btm_rt[i][1]) / 256   # coverting the bottom right point y coordinate to float then normalizing "
   ]
  },
  {
   "cell_type": "code",
   "execution_count": null,
   "metadata": {},
   "outputs": [],
   "source": [
    "bounding_box_circle = bounding_box_circle.astype(int)  # converting the bounding box points to integer"
   ]
  },
  {
   "cell_type": "code",
   "execution_count": null,
   "metadata": {},
   "outputs": [],
   "source": [
    "mini = 32 # images in each batch\n",
    "batch =  3125 #3125 # number of batches\n",
    "epoches = 10 # number of epochs"
   ]
  },
  {
   "cell_type": "code",
   "execution_count": null,
   "metadata": {},
   "outputs": [],
   "source": [
    "#circle detection model training \n",
    "tic = time.time()   # start time\n",
    "# training process\n",
    "for j in range(0, epoches):   # for loop for epochs\n",
    "    for i in range(0, batch):        # for loop for batch\n",
    "        start = i*mini   # starting index for each batch\n",
    "        end = (i + 1)*mini  # ending index for each batch\n",
    "        images_batch = circle_data[start:end,:,:,:]   # slicing image for each batch\n",
    "        box_batch = bounding_box_circle[start:end,:]  # slicing  bounding box for each batch\n",
    "        print(\"No of epochs running = \" + str(j + 1) + \" and No of batch running = \" + str(i + 1))   # printing progress\n",
    "    \n",
    "        if i == 0 and j == 0:    # for 1st iteration initialization of the model\n",
    "            model_c = tf.keras.models.Sequential([\n",
    "                tf.keras.layers.Conv2D(16, (3,3), activation='relu', input_shape=(256, 256, 3)),\n",
    "                tf.keras.layers.MaxPooling2D(2,2),\n",
    "                tf.keras.layers.Conv2D(32, (3,3), activation='relu'),\n",
    "                tf.keras.layers.MaxPooling2D(2,2), \n",
    "                tf.keras.layers.Conv2D(64, (3,3), activation='relu'), \n",
    "                tf.keras.layers.MaxPooling2D(2,2),\n",
    "                tf.keras.layers.Flatten(),\n",
    "                tf.keras.layers.Dense(256, activation='relu'), \n",
    "                tf.keras.layers.Dense(128, activation='relu'),\n",
    "                tf.keras.layers.Dense(64, activation='relu'),\n",
    "                tf.keras.layers.Dense(32, activation='relu'),\n",
    "                tf.keras.layers.Dense(4, activation='sigmoid') \n",
    "                ])\n",
    "            model_c.summary()     # model structure\n",
    "            model_c.compile(                             # setting optimizer, loss function and metrics\n",
    "                            optimizer='sgd',\n",
    "                            loss='mse',\n",
    "                            metrics=[tf.keras.metrics.MeanSquaredError()])\n",
    "\n",
    "            history = model_c.fit(x = images_batch,     # running the model for first batch\n",
    "                                  y = box_batch,\n",
    "                                  steps_per_epoch=1,\n",
    "                                  epochs=1,\n",
    "                                  verbose=1)\n",
    "        \n",
    "            model_c.save('circle_detection_model')      #  saving the model\n",
    "            model_c.save_weights('circle_detection_model_weights.h5')    # saving the weights\n",
    "        \n",
    "        else:\n",
    "            model_c = load_model('circle_detection_model')    # loading the model\n",
    "            model_c.load_weights('circle_detection_model_weights.h5')    # loading the weights\n",
    "            history = model_c.fit(  x = images_batch,    # running the model for rest of the images\n",
    "                                  y = box_batch,\n",
    "                                  steps_per_epoch=1,\n",
    "                                  epochs=1,\n",
    "                                  verbose=1)\n",
    "            model_c.save('circle_detection_model')            # saving the model\n",
    "            model_c.save_weights('circle_detection_model_weights.h5')   # saving the weights\n",
    "        \n",
    "toc = time.time()   # end time\n",
    "print(\" Time elapsed = \" + str((toc - tic)/60) + \"minutes\")   # time elapsed"
   ]
  },
  {
   "cell_type": "code",
   "execution_count": null,
   "metadata": {},
   "outputs": [],
   "source": [
    "model_c = load_model('circle_detection_model')    # loading the model\n",
    "model_c.load_weights('circle_detection_model_weights.h5')    # loading the weights"
   ]
  },
  {
   "cell_type": "code",
   "execution_count": null,
   "metadata": {},
   "outputs": [],
   "source": [
    "# training accuracy\n",
    "\n",
    "begin = 1000   # starting index for evaluating training accuracy\n",
    "final = 1100   # ending index for evaluating training accuracy\n",
    "num = 50     # index which is used for visualization of training accuracy\n",
    "preds = model_c.predict(circle_data[begin:final])  # prediction for images starting from begin to final\n",
    "preds1 = preds[num] # taking specific index for visualization\n",
    "print(preds1)\n",
    "preds1 = preds1*256   # converting prediction bounding box from normalized to original value\n",
    "box_pred = preds1.astype(int) # converting the values to integer\n",
    "print(box_pred)\n",
    "imgs = cv2.rectangle(circle_data[begin + num] * 255,box_pred[0:2],box_pred[2:4],(0,0,255),2) # showing the original circle along with predicted bounding box\n",
    "cv2.imshow(\"Output\", imgs)\n",
    "while(True):\n",
    "    k = cv2.waitKey(33)\n",
    "    if k == -1:  # if no key was pressed, -1 is returned else closing the image window if any key is pressed\n",
    "        continue\n",
    "    else:\n",
    "        break\n",
    "cv2.destroyAllWindows() # closing the image window"
   ]
  },
  {
   "cell_type": "code",
   "execution_count": null,
   "metadata": {},
   "outputs": [],
   "source": [
    "# testing accuracy\n",
    "\n",
    "size_t = 10   # size of test samples\n",
    "\n",
    "img_t = np.zeros([size_t,256,256,3],dtype=np.uint8)   # creating testing samples of images of (256, 256, 3) dimensions\n",
    "img_t.fill(255) # for white background \n",
    "\n",
    "center_coordinate_t = np.random.rand(size_t,2)  # initialization of center coordinates \n",
    "center_coordinate_t *= 240 #converting center coordinate to (240,240) dimension for avoiding near boundary\n",
    "\n",
    "for i in range(0,size_t):\n",
    "    center_coordinate_t[i,0] = bound(30, 230, center_coordinate_t[i,0])  # bounding center coordinate for avoiding near boundary\n",
    "    center_coordinate_t[i,1] = bound(30, 230, center_coordinate_t[i,1]) # bounding center coordinate for avoiding near boundary\n",
    "\n",
    "center_coordinates_t = np.zeros((size_t,2))\n",
    "\n",
    "radius_t = 20  # defining radius of the circles\n",
    "center_coordinates_t = center_coordinate_t.astype(int) # converting center coordinate into integer\n",
    "\n",
    "\n",
    "color_t = (0, 0, 0) # for black color\n",
    "  \n",
    "thickness_t = -1 # for filling the circle with black color\n",
    "\n",
    "circle_data_t = np.zeros([size_t,256,256,3],dtype=np.uint8) # initializing circles array\n",
    "\n",
    "for i in range(0, size_t):\n",
    "    image_t = cv2.circle(img_t[i], center_coordinates_t[i], radius_t, color_t, thickness_t) # creation of test samples including black circle with white background \n",
    "    circle_data_t[i,:,:,:] = image_t / 255  # normalizing the image pixels\n",
    "    \n",
    "    \n",
    "\n",
    "num_t = 0  # index of a specific image for visualization \n",
    "preds_t = model_c.predict(circle_data_t)  # prediction of test samples\n",
    "preds1_t = preds_t[num_t] # predicted bounding box for the specific image\n",
    "print(preds1_t)\n",
    "preds1_t = preds1_t*256 # converting the predicted bounding box to its original value \n",
    "box_pred_t = preds1_t.astype(int)\n",
    "print(box_pred_t)\n",
    "imgs_t = cv2.rectangle(circle_data_t[num_t] * 255,box_pred_t[0:2],box_pred_t[2:4],(0,0,255),2) # showing the original circle along with predicted bounding box\n",
    "cv2.imshow(\"Output_t\", imgs_t)\n",
    "while(True):\n",
    "    k = cv2.waitKey(33)\n",
    "    if k == -1:  # if no key was pressed, -1 is returned else closing the image window if any key is pressed\n",
    "        continue\n",
    "    else:\n",
    "        break\n",
    "cv2.destroyAllWindows()"
   ]
  },
  {
   "cell_type": "code",
   "execution_count": null,
   "metadata": {},
   "outputs": [],
   "source": []
  }
 ],
 "metadata": {
  "kernelspec": {
   "display_name": "Python 3 (ipykernel)",
   "language": "python",
   "name": "python3"
  },
  "language_info": {
   "codemirror_mode": {
    "name": "ipython",
    "version": 3
   },
   "file_extension": ".py",
   "mimetype": "text/x-python",
   "name": "python",
   "nbconvert_exporter": "python",
   "pygments_lexer": "ipython3",
   "version": "3.9.12"
  }
 },
 "nbformat": 4,
 "nbformat_minor": 2
}
